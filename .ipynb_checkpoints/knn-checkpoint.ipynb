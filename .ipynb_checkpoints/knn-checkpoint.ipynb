{
 "cells": [
  {
   "cell_type": "code",
   "execution_count": 243,
   "id": "fedbc56a-8bec-4ace-bc42-5bae075def82",
   "metadata": {},
   "outputs": [],
   "source": [
    "import pandas as pd\n",
    "import matplotlib.pyplot as plt\n",
    "import seaborn as sns\n"
   ]
  },
  {
   "cell_type": "code",
   "execution_count": 244,
   "id": "467d2941-4263-491a-a67c-2f692d470a4e",
   "metadata": {},
   "outputs": [],
   "source": [
    "df = pd.read_csv('top_insta_influencers_data.csv')"
   ]
  },
  {
   "cell_type": "code",
   "execution_count": 245,
   "id": "9389f4f3-c0ab-499b-8ad0-876cdb198032",
   "metadata": {},
   "outputs": [
    {
     "data": {
      "text/html": [
       "<div>\n",
       "<style scoped>\n",
       "    .dataframe tbody tr th:only-of-type {\n",
       "        vertical-align: middle;\n",
       "    }\n",
       "\n",
       "    .dataframe tbody tr th {\n",
       "        vertical-align: top;\n",
       "    }\n",
       "\n",
       "    .dataframe thead th {\n",
       "        text-align: right;\n",
       "    }\n",
       "</style>\n",
       "<table border=\"1\" class=\"dataframe\">\n",
       "  <thead>\n",
       "    <tr style=\"text-align: right;\">\n",
       "      <th></th>\n",
       "      <th>rank</th>\n",
       "      <th>channel_info</th>\n",
       "      <th>influence_score</th>\n",
       "      <th>posts</th>\n",
       "      <th>followers</th>\n",
       "      <th>avg_likes</th>\n",
       "      <th>60_day_eng_rate</th>\n",
       "      <th>new_post_avg_like</th>\n",
       "      <th>total_likes</th>\n",
       "      <th>country</th>\n",
       "    </tr>\n",
       "  </thead>\n",
       "  <tbody>\n",
       "    <tr>\n",
       "      <th>0</th>\n",
       "      <td>1</td>\n",
       "      <td>cristiano</td>\n",
       "      <td>92</td>\n",
       "      <td>3.3k</td>\n",
       "      <td>475.8m</td>\n",
       "      <td>8.7m</td>\n",
       "      <td>1.39%</td>\n",
       "      <td>6.5m</td>\n",
       "      <td>29.0b</td>\n",
       "      <td>Spain</td>\n",
       "    </tr>\n",
       "    <tr>\n",
       "      <th>1</th>\n",
       "      <td>2</td>\n",
       "      <td>kyliejenner</td>\n",
       "      <td>91</td>\n",
       "      <td>6.9k</td>\n",
       "      <td>366.2m</td>\n",
       "      <td>8.3m</td>\n",
       "      <td>1.62%</td>\n",
       "      <td>5.9m</td>\n",
       "      <td>57.4b</td>\n",
       "      <td>United States</td>\n",
       "    </tr>\n",
       "    <tr>\n",
       "      <th>2</th>\n",
       "      <td>3</td>\n",
       "      <td>leomessi</td>\n",
       "      <td>90</td>\n",
       "      <td>0.89k</td>\n",
       "      <td>357.3m</td>\n",
       "      <td>6.8m</td>\n",
       "      <td>1.24%</td>\n",
       "      <td>4.4m</td>\n",
       "      <td>6.0b</td>\n",
       "      <td>NaN</td>\n",
       "    </tr>\n",
       "    <tr>\n",
       "      <th>3</th>\n",
       "      <td>4</td>\n",
       "      <td>selenagomez</td>\n",
       "      <td>93</td>\n",
       "      <td>1.8k</td>\n",
       "      <td>342.7m</td>\n",
       "      <td>6.2m</td>\n",
       "      <td>0.97%</td>\n",
       "      <td>3.3m</td>\n",
       "      <td>11.5b</td>\n",
       "      <td>United States</td>\n",
       "    </tr>\n",
       "    <tr>\n",
       "      <th>4</th>\n",
       "      <td>5</td>\n",
       "      <td>therock</td>\n",
       "      <td>91</td>\n",
       "      <td>6.8k</td>\n",
       "      <td>334.1m</td>\n",
       "      <td>1.9m</td>\n",
       "      <td>0.20%</td>\n",
       "      <td>665.3k</td>\n",
       "      <td>12.5b</td>\n",
       "      <td>United States</td>\n",
       "    </tr>\n",
       "  </tbody>\n",
       "</table>\n",
       "</div>"
      ],
      "text/plain": [
       "   rank channel_info  influence_score  posts followers avg_likes  \\\n",
       "0     1    cristiano               92   3.3k    475.8m      8.7m   \n",
       "1     2  kyliejenner               91   6.9k    366.2m      8.3m   \n",
       "2     3     leomessi               90  0.89k    357.3m      6.8m   \n",
       "3     4  selenagomez               93   1.8k    342.7m      6.2m   \n",
       "4     5      therock               91   6.8k    334.1m      1.9m   \n",
       "\n",
       "  60_day_eng_rate new_post_avg_like total_likes        country  \n",
       "0           1.39%              6.5m       29.0b          Spain  \n",
       "1           1.62%              5.9m       57.4b  United States  \n",
       "2           1.24%              4.4m        6.0b            NaN  \n",
       "3           0.97%              3.3m       11.5b  United States  \n",
       "4           0.20%            665.3k       12.5b  United States  "
      ]
     },
     "execution_count": 245,
     "metadata": {},
     "output_type": "execute_result"
    }
   ],
   "source": [
    "df.head()"
   ]
  },
  {
   "cell_type": "code",
   "execution_count": 246,
   "id": "ce0e435d-4fa8-4e73-9e41-43a0f13f2963",
   "metadata": {},
   "outputs": [],
   "source": [
    "# Setei o rank como index do dataset\n",
    "df = df.set_index('rank')"
   ]
  },
  {
   "cell_type": "code",
   "execution_count": 247,
   "id": "69d278e5-5d58-47d9-9661-1afabb40d8e1",
   "metadata": {},
   "outputs": [
    {
     "data": {
      "text/plain": [
       "['Anguilla',\n",
       " 'Australia',\n",
       " 'Brazil',\n",
       " 'British Virgin Islands',\n",
       " 'Canada',\n",
       " 'Colombia',\n",
       " 'Czech Republic',\n",
       " \"CÃ´te d'Ivoire\",\n",
       " 'France',\n",
       " 'Germany',\n",
       " 'India',\n",
       " 'Indonesia',\n",
       " 'Italy',\n",
       " 'Mexico',\n",
       " 'Netherlands',\n",
       " 'Puerto Rico',\n",
       " 'Russia',\n",
       " 'Spain',\n",
       " 'Sweden',\n",
       " 'Switzerland',\n",
       " 'Turkey',\n",
       " 'United Arab Emirates',\n",
       " 'United Kingdom',\n",
       " 'United States',\n",
       " 'Uruguay']"
      ]
     },
     "execution_count": 247,
     "metadata": {},
     "output_type": "execute_result"
    }
   ],
   "source": [
    "# Tive que usar o dropna porque existe valores na coluna country NaN\n",
    "countrys = sorted(df['country'].dropna().unique())\n",
    "countrys"
   ]
  },
  {
   "cell_type": "code",
   "execution_count": 248,
   "id": "218e0575-cab7-4421-8639-366b7160eaf9",
   "metadata": {},
   "outputs": [],
   "source": [
    "# Criei um dataset e coloquei apenas os países existem no dataset \n",
    "continent_mapping = {\n",
    "    'South America': {\n",
    "        'Brazil': 1, 'Colombia': 2, 'Uruguay': 3\n",
    "    },\n",
    "    'North America': {\n",
    "        'Canada': 20, 'Mexico': 21, 'United States': 22, 'Puerto Rico': 23, 'Anguilla': 24, 'British Virgin Islands': 25\n",
    "    },\n",
    "    'Europe': {\n",
    "        'France': 40, 'Germany': 41, 'Czech Republic': 42, 'Italy': 43, 'Netherlands': 44, 'Russia': 45, \n",
    "        'Spain': 46, 'Sweden': 47, 'Switzerland': 48, 'United Kingdom': 49, 'Turkey': 50\n",
    "    },\n",
    "    'Asia': {\n",
    "        'India': 60, 'Indonesia': 61, 'United Arab Emirates': 62\n",
    "    },\n",
    "     'African': {\n",
    "        \"CÃ´te d'Ivoire\": 80\n",
    "    },\n",
    "    'Oceania': {\n",
    "        'Australia': 90\n",
    "    }\n",
    "}"
   ]
  },
  {
   "cell_type": "code",
   "execution_count": 249,
   "id": "05bfb988-3492-4bf2-a63d-be2bfe8a20ac",
   "metadata": {},
   "outputs": [],
   "source": [
    "# Função para realizar a conversão de categorico para númerico utilizando \n",
    "def country_to_continent_mapping(country):\n",
    "    for continent, countries in continent_mapping.items():\n",
    "        if country in countries:\n",
    "            return countries[country]\n",
    "    return None  "
   ]
  },
  {
   "cell_type": "code",
   "execution_count": 250,
   "id": "bc127df5-7aa3-4875-81f1-28ed975a8bad",
   "metadata": {},
   "outputs": [],
   "source": [
    "# Aplica a transformação da coluna 'country' usando a função map_country_to_continent\n",
    "df['country'] = df['country'].map(country_to_continent_mapping)"
   ]
  },
  {
   "cell_type": "code",
   "execution_count": 251,
   "id": "549d56e4-f1b5-4e61-8c03-d8d7314ed0b5",
   "metadata": {},
   "outputs": [
    {
     "name": "stdout",
     "output_type": "stream",
     "text": [
      "rank\n",
      "1      46.0\n",
      "2      22.0\n",
      "3       NaN\n",
      "4      22.0\n",
      "5      22.0\n",
      "       ... \n",
      "196    22.0\n",
      "197    40.0\n",
      "198     1.0\n",
      "199    22.0\n",
      "200    61.0\n",
      "Name: country, Length: 200, dtype: float64\n"
     ]
    }
   ],
   "source": [
    "df['country'])"
   ]
  },
  {
   "cell_type": "code",
   "execution_count": 252,
   "id": "e50384b2-13e3-4362-9e8e-7165c1bfb4fc",
   "metadata": {},
   "outputs": [
    {
     "data": {
      "text/plain": [
       "62"
      ]
     },
     "execution_count": 252,
     "metadata": {},
     "output_type": "execute_result"
    }
   ],
   "source": [
    "nan_country = df['country'].isna().sum()\n",
    "nan_country"
   ]
  },
  {
   "cell_type": "code",
   "execution_count": 253,
   "id": "c16178f7-aa2d-4351-a2c7-0d102a9d6883",
   "metadata": {},
   "outputs": [],
   "source": [
    "df['country'] = df['country'].fillna(df['country'].median())\n"
   ]
  },
  {
   "cell_type": "code",
   "execution_count": 254,
   "id": "a4e7e971-114f-4896-8c53-dde0546c485a",
   "metadata": {},
   "outputs": [
    {
     "data": {
      "text/plain": [
       "rank\n",
       "1      46.0\n",
       "2      22.0\n",
       "3      22.0\n",
       "4      22.0\n",
       "5      22.0\n",
       "       ... \n",
       "196    22.0\n",
       "197    40.0\n",
       "198     1.0\n",
       "199    22.0\n",
       "200    61.0\n",
       "Name: country, Length: 200, dtype: float64"
      ]
     },
     "execution_count": 254,
     "metadata": {},
     "output_type": "execute_result"
    }
   ],
   "source": [
    "df['country'] "
   ]
  },
  {
   "cell_type": "markdown",
   "id": "3632ea4f-088c-4e3f-8422-7f7cf5d1347d",
   "metadata": {},
   "source": [
    "# Análise Exploratória de Dados "
   ]
  },
  {
   "cell_type": "markdown",
   "id": "6712066c-b0ef-45ed-91e6-fcc43e15030b",
   "metadata": {},
   "source": [
    "## Distribuição das Variáveis Númericas"
   ]
  },
  {
   "cell_type": "code",
   "execution_count": 257,
   "id": "d77159b1-d6d3-4556-bfe1-f561e6788dff",
   "metadata": {},
   "outputs": [],
   "source": [
    "# Selecionar todas as colunas numéricas do dataset\n",
    "numeric_columns = df.select_dtypes(include=['number']).columns"
   ]
  },
  {
   "cell_type": "markdown",
   "id": "c8b6f22b-442c-4ba4-bdc2-3a90daf1c343",
   "metadata": {},
   "source": [
    "### Histogramas"
   ]
  },
  {
   "cell_type": "code",
   "execution_count": 280,
   "id": "5909c6d8-009f-45e3-a127-1d9186598696",
   "metadata": {},
   "outputs": [
    {
     "data": {
      "image/png": "[encoded data removed]",
      "text/plain": [
       "<Figure size 640x480 with 1 Axes>"
      ]
     },
     "metadata": {},
     "output_type": "display_data"
    },
    {
     "data": {
      "image/png": "[encoded data removed]",
      "text/plain": [
       "<Figure size 640x480 with 1 Axes>"
      ]
     },
     "metadata": {},
     "output_type": "display_data"
    }
   ],
   "source": [
    "# Iterar sobre todas as colunas numéricas e plotar os histogramas\n",
    "for column in numeric_columns:\n",
    "    # Coloquei em intervalos de 10\n",
    "    df[column].hist(bins=10)\n",
    "    plt.title(f\"Histograma de {column}\")\n",
    "    plt.xlabel(column)\n",
    "    plt.ylabel('Frequência')\n",
    "    plt.show()"
   ]
  },
  {
   "cell_type": "markdown",
   "id": "2fb1121a-6472-4c2b-bd1f-cc0f73e197a9",
   "metadata": {},
   "source": [
    "### Boxplots"
   ]
  },
  {
   "cell_type": "code",
   "execution_count": 261,
   "id": "d6b40609-8002-419e-ba20-214d6972a6c1",
   "metadata": {},
   "outputs": [
    {
     "data": {
      "image/png": "[encoded data removed]",
      "text/plain": [
       "<Figure size 600x400 with 1 Axes>"
      ]
     },
     "metadata": {},
     "output_type": "display_data"
    },
    {
     "data": {
      "image/png": "[encoded data removed]",
      "text/plain": [
       "<Figure size 600x400 with 1 Axes>"
      ]
     },
     "metadata": {},
     "output_type": "display_data"
    }
   ],
   "source": [
    "for column in numeric_columns:\n",
    "    plt.figure(figsize=(6, 4))  # Tamanho da figura\n",
    "    sns.boxplot(data=df, x=column)\n",
    "    plt.title(f\"Boxplot de {column}\")\n",
    "    plt.ylabel(column)\n",
    "    plt.show()"
   ]
  },
  {
   "cell_type": "markdown",
   "id": "18956d4e-1503-4536-a417-a353b31c7ae6",
   "metadata": {},
   "source": [
    "** Interpretação **: Em influence_score e country"
   ]
  },
  {
   "cell_type": "markdown",
   "id": "fac8650c-bc47-4c3f-a216-f75a26dd116c",
   "metadata": {},
   "source": [
    "## Relação entre Variáveis Númericas"
   ]
  },
  {
   "cell_type": "markdown",
   "id": "1b852edf-fc4b-40d0-b6c7-a93b0acefa09",
   "metadata": {},
   "source": [
    "### Gráficos de Dispersão (Scatter Plot)"
   ]
  },
  {
   "cell_type": "markdown",
   "id": "85677379-9d76-4901-b039-b76cf224e77f",
   "metadata": {},
   "source": [
    "### Matriz de Correlação"
   ]
  },
  {
   "cell_type": "markdown",
   "id": "12f189b6-1217-45f6-84e3-f55185932bd7",
   "metadata": {},
   "source": [
    "## Distribuição das Variáveis Categóricas"
   ]
  },
  {
   "cell_type": "code",
   "execution_count": null,
   "id": "e32e3d90-e64c-4906-89bc-3c99a9273c6f",
   "metadata": {},
   "outputs": [],
   "source": [
    "# gráfico de barras, gráfico de pizza"
   ]
  },
  {
   "cell_type": "markdown",
   "id": "cbe2cc94-7961-460b-99a5-b587af5bce03",
   "metadata": {},
   "source": [
    "## Relação entre Variáveis Categóricas e Númericas"
   ]
  },
  {
   "cell_type": "code",
   "execution_count": null,
   "id": "832e020b-d98d-4264-88a9-2a4b84b0bafb",
   "metadata": {},
   "outputs": [],
   "source": [
    "# boxplot com categórias"
   ]
  },
  {
   "cell_type": "markdown",
   "id": "527e07fb-6deb-43e3-83ba-c8d1c632d553",
   "metadata": {},
   "source": [
    "## Análise e tratamento de valores ausentes e outliers (usar heatmap para verificar onde estão esses valores ausentes e usar o boxplot e scatter plot)"
   ]
  }
 ],
 "metadata": {
  "kernelspec": {
   "display_name": "Python 3 (ipykernel)",
   "language": "python",
   "name": "python3"
  },
  "language_info": {
   "codemirror_mode": {
    "name": "ipython",
    "version": 3
   },
   "file_extension": ".py",
   "mimetype": "text/x-python",
   "name": "python",
   "nbconvert_exporter": "python",
   "pygments_lexer": "ipython3",
   "version": "3.12.7"
  }
 },
 "nbformat": 4,
 "nbformat_minor": 5
}
